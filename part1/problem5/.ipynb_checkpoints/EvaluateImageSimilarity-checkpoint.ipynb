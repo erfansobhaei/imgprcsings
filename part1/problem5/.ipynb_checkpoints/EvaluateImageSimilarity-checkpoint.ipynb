{
 "cells": [
  {
   "cell_type": "markdown",
   "id": "6df5000e",
   "metadata": {},
   "source": [
    "# Evalute Image Similarity\n",
    "**Develop functions for calculating X and Y.**\n",
    "\n",
    "**A. Load the Cameraman image and calculate the MSE and PSNR with the image itself without change. Randomly replace 10 pixels of the image with 255 values and compare the modified image with the original image using the MSE and PSNR methods. Shift all the pixels of the original image one pixel upwards and compare with the original image through the methods mentioned.\n",
    "In each step, submit array of the image of these functions and provide values of MSE and PSNR values.**\n",
    "\n",
    "**Download the MNIST dataset and read it in the input. This dataset contains images of handwritten numbers from one to ten. Read the images that are exclusively related to the numbers 3 and 7 in the train path. Calculate an average of all images related to the number 3. Also repeat this action for the number 7. In the valid path, read images of the numbers 3 and 7 in about 10 images, and for each MSE and PSNR image, compare it with the two averages 3 and 7. Can this method be used to recognize images of handwritten numbers? Report the challenges of this method. The report should be presented using the image and statistics related to the mentioned steps.**"
   ]
  },
  {
   "cell_type": "markdown",
   "id": "b17af36e",
   "metadata": {},
   "source": [
    "### Part A\n",
    "\n",
    "The following code snippet import required third-party libraries:\n",
    "+ `cv2` for reading and utilizing image processing functions\n",
    "+ `numpy` for calculating and considering images as numerical matrixes\n",
    "+ `matplotlib.pyplot` for showing images in the output\n",
    "+ `skimage` for changing and applyting filters to images\n"
   ]
  },
  {
   "cell_type": "code",
   "execution_count": 2,
   "id": "6c60ed93",
   "metadata": {},
   "outputs": [],
   "source": [
    "import cv2\n",
    "import numpy as np\n",
    "import matplotlib.pyplot as plt\n",
    "import skimage"
   ]
  },
  {
   "cell_type": "code",
   "execution_count": 29,
   "id": "8f4594f6",
   "metadata": {},
   "outputs": [],
   "source": [
    "def calculate_MSE(image_1, image_2):\n",
    "    if(sorted(image_1.shape) !=  sorted(image_2.shape)):\n",
    "        raise ValueError(\"Arguements must have same shape.\")\n",
    "    size = image_1.shape\n",
    "    MSE_array = (image_1 - image_2)**2\n",
    "    return MSE_array.sum() / (size[0]*size[1])\n",
    "    "
   ]
  },
  {
   "cell_type": "code",
   "execution_count": 34,
   "id": "1540abc5",
   "metadata": {},
   "outputs": [],
   "source": [
    "def calculate_PSNR(image_1, image_2):\n",
    "    MSE = calculate_MSE(image_1, image_2)\n",
    "    PSNR = 10 * np.log(255**2 / MSE)\n",
    "    return PSNR"
   ]
  },
  {
   "cell_type": "code",
   "execution_count": null,
   "id": "651db71f",
   "metadata": {},
   "outputs": [],
   "source": []
  }
 ],
 "metadata": {
  "kernelspec": {
   "display_name": "Python 3",
   "language": "python",
   "name": "python3"
  },
  "language_info": {
   "codemirror_mode": {
    "name": "ipython",
    "version": 3
   },
   "file_extension": ".py",
   "mimetype": "text/x-python",
   "name": "python",
   "nbconvert_exporter": "python",
   "pygments_lexer": "ipython3",
   "version": "3.8.5"
  }
 },
 "nbformat": 4,
 "nbformat_minor": 5
}
